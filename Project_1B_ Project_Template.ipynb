{
 "cells": [
  {
   "cell_type": "markdown",
   "metadata": {},
   "source": [
    "# Part I. ETL Pipeline for Pre-Processing the Files"
   ]
  },
  {
   "cell_type": "markdown",
   "metadata": {},
   "source": [
    "## PLEASE RUN THE FOLLOWING CODE FOR PRE-PROCESSING THE FILES"
   ]
  },
  {
   "cell_type": "markdown",
   "metadata": {},
   "source": [
    "#### Import Python packages "
   ]
  },
  {
   "cell_type": "code",
   "execution_count": 42,
   "metadata": {},
   "outputs": [],
   "source": [
    "# Import Python packages \n",
    "import pandas as pd\n",
    "import cassandra\n",
    "import re\n",
    "import os\n",
    "import glob\n",
    "import numpy as np\n",
    "import json\n",
    "import csv"
   ]
  },
  {
   "cell_type": "markdown",
   "metadata": {},
   "source": [
    "#### Creating list of filepaths to process original event csv data files"
   ]
  },
  {
   "cell_type": "code",
   "execution_count": 43,
   "metadata": {},
   "outputs": [
    {
     "name": "stdout",
     "output_type": "stream",
     "text": [
      "/Users/sgupta/Desktop/Udacity/Data Engineer/Project2\n"
     ]
    }
   ],
   "source": [
    "# checking your current working directory\n",
    "print(os.getcwd())\n",
    "\n",
    "# Get your current folder and subfolder event data\n",
    "filepath = os.getcwd() + '/event_data'\n",
    "\n",
    "# Create a for loop to create a list of files and collect each filepath\n",
    "for root, dirs, files in os.walk(filepath):\n",
    "    \n",
    "# join the file path and roots with the subdirectories using glob\n",
    "    file_path_list = glob.glob(os.path.join(root,'*'))\n",
    "    #print(file_path_list)"
   ]
  },
  {
   "cell_type": "markdown",
   "metadata": {},
   "source": [
    "#### Processing the files to create the data file csv that will be used for Apache Casssandra tables"
   ]
  },
  {
   "cell_type": "code",
   "execution_count": 44,
   "metadata": {},
   "outputs": [],
   "source": [
    "# initiating an empty list of rows that will be generated from each file\n",
    "full_data_rows_list = [] \n",
    "    \n",
    "# for every filepath in the file path list \n",
    "for f in file_path_list:\n",
    "\n",
    "# reading csv file \n",
    "    with open(f, 'r', encoding = 'utf8', newline='') as csvfile: \n",
    "        # creating a csv reader object \n",
    "        csvreader = csv.reader(csvfile) \n",
    "        next(csvreader)\n",
    "        \n",
    " # extracting each data row one by one and append it        \n",
    "        for line in csvreader:\n",
    "            full_data_rows_list.append(line) \n",
    "\n",
    "# creating a smaller event data csv file called event_datafile_full csv that will be used to insert data into the \\\n",
    "# Apache Cassandra tables\n",
    "csv.register_dialect('myDialect', quoting=csv.QUOTE_ALL, skipinitialspace=True)\n",
    "\n",
    "with open('event_datafile_new.csv', 'w', encoding = 'utf8', newline='') as f:\n",
    "    writer = csv.writer(f, dialect='myDialect')\n",
    "    writer.writerow(['artist','firstName','gender','itemInSession','lastName','length',\\\n",
    "                'level','location','sessionId','song','userId'])\n",
    "    for row in full_data_rows_list:\n",
    "        if (row[0] == ''):\n",
    "            continue\n",
    "        writer.writerow((row[0], row[2], row[3], row[4], row[5], row[6], row[7], row[8], row[12], row[13], row[16]))\n",
    "        "
   ]
  },
  {
   "cell_type": "code",
   "execution_count": 45,
   "metadata": {},
   "outputs": [
    {
     "name": "stdout",
     "output_type": "stream",
     "text": [
      "6821\n"
     ]
    }
   ],
   "source": [
    "# check the number of rows in your csv file\n",
    "with open('event_datafile_new.csv', 'r', encoding = 'utf8') as f:\n",
    "    print(sum(1 for line in f))"
   ]
  },
  {
   "cell_type": "markdown",
   "metadata": {},
   "source": [
    "# Part II. Complete the Apache Cassandra coding portion of your project. \n",
    "\n",
    "## Now you are ready to work with the CSV file titled <font color=red>event_datafile_new.csv</font>, located within the Workspace directory.  The event_datafile_new.csv contains the following columns: \n",
    "- artist \n",
    "- firstName of user\n",
    "- gender of user\n",
    "- item number in session\n",
    "- last name of user\n",
    "- length of the song\n",
    "- level (paid or free song)\n",
    "- location of the user\n",
    "- sessionId\n",
    "- song title\n",
    "- userId\n",
    "\n",
    "The image below is a screenshot of what the denormalized data should appear like in the <font color=red>**event_datafile_new.csv**</font> after the code above is run:<br>\n",
    "\n",
    "<img src=\"images/image_event_datafile_new.jpg\">"
   ]
  },
  {
   "cell_type": "markdown",
   "metadata": {},
   "source": [
    "## Begin writing your Apache Cassandra code in the cells below"
   ]
  },
  {
   "cell_type": "markdown",
   "metadata": {},
   "source": [
    "#### Creating a Cluster"
   ]
  },
  {
   "cell_type": "code",
   "execution_count": 46,
   "metadata": {},
   "outputs": [],
   "source": [
    "from cassandra.cluster import Cluster\n",
    "\n",
    "try: \n",
    "    cluster = Cluster(['127.0.0.1']) #If you have a locally installed Apache Cassandra instance\n",
    "    session = cluster.connect()\n",
    "except Exception as e:\n",
    "    print(e)\n",
    "    \n",
    "# To establish connection and begin executing queries, need a session\n",
    "session = cluster.connect()"
   ]
  },
  {
   "cell_type": "markdown",
   "metadata": {},
   "source": [
    "#### Create Keyspace"
   ]
  },
  {
   "cell_type": "code",
   "execution_count": 47,
   "metadata": {},
   "outputs": [],
   "source": [
    "# Create a Keyspace \n",
    "try:\n",
    "    session.execute(\"\"\"\n",
    "        CREATE KEYSPACE IF NOT EXISTS udacity \n",
    "        WITH REPLICATION = \n",
    "        { 'class' : 'SimpleStrategy', 'replication_factor' : 1 }\"\"\"\n",
    "    )\n",
    "\n",
    "except Exception as e:\n",
    "    print(e)"
   ]
  },
  {
   "cell_type": "markdown",
   "metadata": {},
   "source": [
    "#### Set Keyspace"
   ]
  },
  {
   "cell_type": "code",
   "execution_count": 48,
   "metadata": {},
   "outputs": [],
   "source": [
    "# Set KEYSPACE to the keyspace specified above\n",
    "try:\n",
    "    session.set_keyspace('udacity')\n",
    "except Exception as e:\n",
    "    print(e)"
   ]
  },
  {
   "cell_type": "markdown",
   "metadata": {},
   "source": [
    "### Now we need to create tables to run the following queries. Remember, with Apache Cassandra you model the database tables on the queries you want to run."
   ]
  },
  {
   "cell_type": "markdown",
   "metadata": {},
   "source": [
    "## Create queries to ask the following three questions of the data\n",
    "\n",
    "### 1. Give me the artist, song title and song's length in the music app history that was heard during  sessionId = 338, and itemInSession  = 4\n",
    "\n",
    "\n",
    "### 2. Give me only the following: name of artist, song (sorted by itemInSession) and user (first and last name) for userid = 10, sessionid = 182\n",
    "    \n",
    "\n",
    "### 3. Give me every user name (first and last) in my music app history who listened to the song 'All Hands Against His Own'\n",
    "\n",
    "\n"
   ]
  },
  {
   "cell_type": "code",
   "execution_count": 49,
   "metadata": {},
   "outputs": [],
   "source": [
    "# Create table for Query 1\n",
    "query1 = \"CREATE TABLE IF NOT EXISTS songs_in_user_session \"\n",
    "query1 = query1 + \"(sessionId int, itemInSession int, artist text, songTitle text, songLength float, PRIMARY KEY (sessionId, itemInSession))\"\n",
    "try:\n",
    "    session.execute(query1)\n",
    "except Exception as e:\n",
    "    print(e)\n",
    "    \n",
    "# Create table for Query 2\n",
    "query2 = \"CREATE TABLE IF NOT EXISTS session_info_per_user \"\n",
    "query2 = query2 + \"(userId int, sessionId int, itemInSession int, artist text, songTitle text, userName text, PRIMARY KEY ((userId, sessionId), itemInSession))\"\n",
    "try:\n",
    "    session.execute(query2)\n",
    "except Exception as e:\n",
    "    print(e)\n",
    "    \n",
    "# Create table for Query 3\n",
    "query3 = \"CREATE TABLE IF NOT EXISTS song_analytics_table \"\n",
    "query3 = query3 + \"(songTitle text, userId int, userName text, PRIMARY KEY (songTitle, userId))\"\n",
    "try:\n",
    "    session.execute(query3)\n",
    "except Exception as e:\n",
    "    print(e)"
   ]
  },
  {
   "cell_type": "code",
   "execution_count": 50,
   "metadata": {
    "scrolled": false
   },
   "outputs": [],
   "source": [
    "# Populate the three tables using the data from csv files\n",
    "file = 'event_datafile_new.csv'\n",
    "\n",
    "with open(file, encoding = 'utf8') as f:\n",
    "    csvreader = csv.reader(f)\n",
    "    next(csvreader) # skip header\n",
    "    for line in csvreader:\n",
    "        #Columns used in Queries\n",
    "        sessionId = int(line[8])\n",
    "        itemInSession = int(line[3])\n",
    "        artist = line[0]\n",
    "        songTitle = line[9]\n",
    "        songLength = float(line[5])\n",
    "        userId =  int(line[10])\n",
    "        userName = line[1] + \" \" + line[4]\n",
    "        \n",
    "        query1 = \"INSERT INTO songs_in_user_session (sessionId, itemInSession, artist, songTitle, songLength) \"\n",
    "        query1 = query1 + \"VALUES (%s, %s, %s, %s, %s)\"\n",
    "        session.execute(query1, (sessionId, itemInSession, artist, songTitle, songLength))\n",
    "        \n",
    "        query2 = \"INSERT INTO session_info_per_user (userId, sessionId, itemInSession, artist, songTitle, userName) \"\n",
    "        query2 = query2 + \"VALUES (%s, %s, %s, %s, %s, %s)\"\n",
    "        session.execute(query2, (userId, sessionId, itemInSession, artist, songTitle, userName))\n",
    "        \n",
    "        query3 = \"INSERT INTO song_analytics_table (songTitle, userId, userName) \"\n",
    "        query3 = query3 + \"VALUES (%s, %s, %s)\"\n",
    "        session.execute(query3, (songTitle, userId, userName))"
   ]
  },
  {
   "cell_type": "markdown",
   "metadata": {},
   "source": [
    "#### Do a SELECT to verify that the data have been inserted into each table"
   ]
  },
  {
   "cell_type": "code",
   "execution_count": 51,
   "metadata": {
    "scrolled": true
   },
   "outputs": [
    {
     "name": "stdout",
     "output_type": "stream",
     "text": [
      "Row(sessionid=139, iteminsession=1, artist=\"Des'ree\", songlength=246.30812072753906, songtitle='You Gotta Be')\n",
      "Error from server: code=2200 [Invalid query] message=\"Cannot execute this query as it might involve data filtering and thus may have unpredictable performance. If you want to execute this query despite the performance unpredictability, use ALLOW FILTERING\"\n",
      "Row(sessionid=139, iteminsession=1, artist=\"Des'ree\", songlength=246.30812072753906, songtitle='You Gotta Be')\n",
      "Row(songtitle='Flat 55', userid=8, username='Kaylee Summers')\n"
     ]
    }
   ],
   "source": [
    "## Add in the SELECT statement to verify the data was entered into the table\n",
    "\n",
    "# Test Select for Query 1\n",
    "select_query_1 = \"SELECT * FROM songs_in_user_session \"\n",
    "select_query_1 = select_query_1 + \"WHERE sessionId=139\"\n",
    "try:\n",
    "    results = session.execute(select_query_1)\n",
    "except Exception as e:\n",
    "    print(e)\n",
    "    \n",
    "for row in results:\n",
    "    print(row)\n",
    "    break\n",
    "\n",
    "# Test Select for Query 2\n",
    "select_query_2 = \"SELECT * FROM session_info_per_user \"\n",
    "select_query_2 = select_query_2 + \"WHERE userId=8 \"\n",
    "select_query_2 = select_query_2 + \"ORDER BY itemInSession\"\n",
    "\n",
    "try:\n",
    "    results = session.execute(select_query_2)\n",
    "except Exception as e:\n",
    "    print(e)\n",
    "    \n",
    "for row in results:\n",
    "    print(row)\n",
    "    break\n",
    "\n",
    "# Test Select for Query 3\n",
    "select_query_3 = \"SELECT * FROM song_analytics_table \"\n",
    "select_query_3 = select_query_3 + \"WHERE songTitle='Flat 55'\"\n",
    "try:\n",
    "    results = session.execute(select_query_3)\n",
    "except Exception as e:\n",
    "    print(e)\n",
    "    \n",
    "for row in results:\n",
    "    print(row)\n",
    "    break"
   ]
  },
  {
   "cell_type": "markdown",
   "metadata": {},
   "source": [
    "### COPY AND REPEAT THE ABOVE THREE CELLS FOR EACH OF THE THREE QUESTIONS"
   ]
  },
  {
   "cell_type": "code",
   "execution_count": 52,
   "metadata": {},
   "outputs": [
    {
     "name": "stdout",
     "output_type": "stream",
     "text": [
      "Row(artist='Faithless', songtitle='Music Matters (Mark Knight Dub)', songlength=495.30731201171875)\n"
     ]
    }
   ],
   "source": [
    "## Query 1: Give me the artist, song title and song's length in the music app history\\\n",
    "## that was heard during  sessionId = 338, and itemInSession  = 4\n",
    "\n",
    "query_1 = \"SELECT artist, songTitle, songLength FROM songs_in_user_session \"\n",
    "query_1 = query_1 + \"WHERE sessionId=338 AND itemInSession=4\"\n",
    "try:\n",
    "    results = session.execute(query_1)\n",
    "except Exception as e:\n",
    "    print(e)\n",
    "    \n",
    "for row in results:\n",
    "    print(row)"
   ]
  },
  {
   "cell_type": "code",
   "execution_count": 53,
   "metadata": {},
   "outputs": [
    {
     "name": "stdout",
     "output_type": "stream",
     "text": [
      "Row(artist='Down To The Bone', songtitle=\"Keep On Keepin' On\", username='Sylvie Cruz')\n",
      "Row(artist='Three Drives', songtitle='Greece 2000', username='Sylvie Cruz')\n",
      "Row(artist='Sebastien Tellier', songtitle='Kilometer', username='Sylvie Cruz')\n",
      "Row(artist='Lonnie Gordon', songtitle='Catch You Baby (Steve Pitron & Max Sanna Radio Edit)', username='Sylvie Cruz')\n"
     ]
    }
   ],
   "source": [
    "## Query 2: Give me only the following: name of artist, song (sorted by itemInSession) and user (first and last name)\\\n",
    "## for userid = 10, sessionid = 182\n",
    "\n",
    "query_2 = \"SELECT artist, songTitle, userName FROM session_info_per_user \"\n",
    "query_2 = query_2 + \"WHERE userId=10 AND sessionId=182 \"\n",
    "query_2 = query_2 + \"ORDER BY itemInSession\"\n",
    "try:\n",
    "    results = session.execute(query_2)\n",
    "except Exception as e:\n",
    "    print(e)\n",
    "    \n",
    "for row in results:\n",
    "    print(row)      "
   ]
  },
  {
   "cell_type": "code",
   "execution_count": 54,
   "metadata": {},
   "outputs": [
    {
     "name": "stdout",
     "output_type": "stream",
     "text": [
      "Row(username='Jacqueline Lynch')\n",
      "Row(username='Tegan Levine')\n",
      "Row(username='Sara Johnson')\n"
     ]
    }
   ],
   "source": [
    "## Query 3: Give me every user name (first and last) in my music app history\\\n",
    "## who listened to the song 'All Hands Against His Own'\n",
    "\n",
    "query_3 = \"SELECT userName FROM song_analytics_table \"\n",
    "query_3 = query_3 + \"WHERE songTitle='All Hands Against His Own'\"\n",
    "try:\n",
    "    results = session.execute(query_3)\n",
    "except Exception as e:\n",
    "    print(e)\n",
    "    \n",
    "for row in results:\n",
    "    print(row)      "
   ]
  },
  {
   "cell_type": "markdown",
   "metadata": {},
   "source": [
    "### Drop the tables before closing out the sessions"
   ]
  },
  {
   "cell_type": "code",
   "execution_count": 55,
   "metadata": {},
   "outputs": [],
   "source": [
    "## Drop the table before closing out the sessions\n",
    "drop_query_1 = \"DROP TABLE IF EXISTS songs_in_user_session\"\n",
    "try:\n",
    "    results = session.execute(drop_query_1)\n",
    "except Exception as e:\n",
    "    print(e)\n",
    "    \n",
    "drop_query_2 = \"DROP TABLE IF EXISTS session_info_per_user\"\n",
    "try:\n",
    "    results = session.execute(drop_query_2)\n",
    "except Exception as e:\n",
    "    print(e)\n",
    "    \n",
    "drop_query_3 = \"DROP TABLE IF EXISTS song_analytics_table\"\n",
    "try:\n",
    "    results = session.execute(drop_query_3)\n",
    "except Exception as e:\n",
    "    print(e)"
   ]
  },
  {
   "cell_type": "markdown",
   "metadata": {},
   "source": [
    "### Close the session and cluster connection¶"
   ]
  },
  {
   "cell_type": "code",
   "execution_count": 56,
   "metadata": {},
   "outputs": [],
   "source": [
    "session.shutdown()\n",
    "cluster.shutdown()"
   ]
  },
  {
   "cell_type": "code",
   "execution_count": null,
   "metadata": {},
   "outputs": [],
   "source": []
  }
 ],
 "metadata": {
  "kernelspec": {
   "display_name": "Python 3",
   "language": "python",
   "name": "python3"
  },
  "language_info": {
   "codemirror_mode": {
    "name": "ipython",
    "version": 3
   },
   "file_extension": ".py",
   "mimetype": "text/x-python",
   "name": "python",
   "nbconvert_exporter": "python",
   "pygments_lexer": "ipython3",
   "version": "3.7.3"
  }
 },
 "nbformat": 4,
 "nbformat_minor": 2
}
